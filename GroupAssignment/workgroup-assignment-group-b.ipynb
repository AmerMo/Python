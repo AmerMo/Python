{
 "cells": [
  {
   "cell_type": "markdown",
   "metadata": {},
   "source": [
    "# Workgroup assignment\n",
    "\n",
    "This assignment will cover everything we have studied in class so far.\n",
    "Submission of the assignment must be done using GitHub. You will need\n",
    "to use the file `bank.csv` as input, and you will have to solve the\n",
    "following problems.\n",
    "\n",
    "1. (**2 points**) Create a function `read_savings_data` that reads the\n",
    "file named `bank.csv` and returns a list of dictionaries, where each\n",
    "element of the list should have the form:\n",
    "\n",
    "```json\n",
    "{\n",
    "  \"name\": \"Leroy\",\n",
    "  \"savings\": \"$7883.30\",\n",
    "  \"country\": \"DE\"\n",
    "}\n",
    "```\n",
    "\n",
    "2. (**2 points**) Create a function `calculate_total_savings`, that\n",
    "receives a list of dictionaries like the one resulting from\n",
    "`read_savings_data`, and computes the total savings of all clients in\n",
    "the bank. Do not use the function `sum` provided by Python.\n",
    "\n",
    "3. (**2 points**) Create a function `richest_person`, that receives a\n",
    "list of dictionares like the one resulting from `read_savings_data`,\n",
    "and returns the name of the person that has the highest amount of\n",
    "money.\n",
    "\n",
    "4. (**2 points**) Create a function `poorest_person`, that receives a\n",
    "list of dictionaries like the one resulting from `read_savings_data`,\n",
    "and returns the name of the person that has the lowest amount of\n",
    "money.\n",
    "\n",
    "5. (**3 points**) Create a function `get_all_countries`, that receives\n",
    "a list of dictionaries like the one resulting from\n",
    "`read_savings_data`, and returns a list of all different countries,\n",
    "with no duplicates.\n",
    "\n",
    "6. (**3 points**) Create a function `calculate_average_savings`, that\n",
    "receives a list of dictionaries like the one resulting from\n",
    "`read_savings_data`, and returns the average savings of all people in\n",
    "the bank. Do not use the function `sum` provided by Python.\n",
    "\n",
    "7. (**4 points**) Create a function `people_per_country`, that\n",
    "receives a list of dictionaries like the one resulting from\n",
    "`read_savings_data`, and returns a dictionary where the keys are the\n",
    "different countries in the input, and the values are the number of\n",
    "people that are from each country. For example, the output should look\n",
    "like:\n",
    "\n",
    "```json\n",
    "{\n",
    "  \"ES\": 14,\n",
    "  \"DE\": 29,\n",
    "  ...\n",
    "}\n",
    "```\n",
    "\n",
    "8. (**2 points**) Create a function `write_report`, that writes a\n",
    "report in a file named `report.json`, with the following format:\n",
    "\n",
    "```json\n",
    "{\n",
    "  \"total_savings\": \"amount\",\n",
    "  \"richest_person\": \"name\",\n",
    "  \"poorest_person\": \"name\",\n",
    "  \"all_countries\": [\n",
    "    \"ES\",\n",
    "    \"IT\",\n",
    "    ...\n",
    "  ],\n",
    "  \"average_savings\": \"amount\",\n",
    "  \"people_per_country\": {\n",
    "    \"ES\": 14,\n",
    "    \"DE\": 29,\n",
    "    ...\n",
    "  }\n",
    "}\n",
    "```\n",
    "\n",
    "You can create as many auxiliary functions as you need, but at least\n",
    "the 8 functions described above must be included in your\n",
    "submission. The file `report.json` must also be included.\n"
   ]
  },
  {
   "cell_type": "markdown",
   "metadata": {},
   "source": [
    "1. (**2 points**) Create a function `read_savings_data` that reads the\n",
    "file named `bank.csv` and returns a list of dictionaries, where each\n",
    "element of the list should have the form:\n",
    "\n",
    "```json\n",
    "{\n",
    "  \"name\": \"Leroy\",\n",
    "  \"savings\": \"$7883.30\",\n",
    "  \"country\": \"DE\"\n",
    "}\n",
    "```"
   ]
  },
  {
   "cell_type": "code",
   "execution_count": 124,
   "metadata": {},
   "outputs": [],
   "source": [
    "def read_savings_data (myfile):\n",
    "    myList = []\n",
    "    myDict = {}\n",
    "    with open(myfile) as file:\n",
    "        next(file)\n",
    "        for line in file:\n",
    "            splt = line.split(\",\")\n",
    "            myDict['name']=splt[0]\n",
    "            myDict['savings']=splt[1]\n",
    "            myDict['country']=splt[2].replace('\\n','')\n",
    "            myList.append(myDict.copy())\n",
    "    return(myList)\n",
    "            "
   ]
  },
  {
   "cell_type": "code",
   "execution_count": 125,
   "metadata": {},
   "outputs": [
    {
     "data": {
      "text/plain": [
       "[{'name': 'Leroy', 'savings': '$7883.30', 'country': 'DE'},\n",
       " {'name': 'Lillian', 'savings': '$5653.22', 'country': 'DE'},\n",
       " {'name': 'Duane', 'savings': '$9392.84', 'country': 'DE'},\n",
       " {'name': 'Russell', 'savings': '$353.59', 'country': 'IT'},\n",
       " {'name': 'David', 'savings': '$3540.27', 'country': 'FR'},\n",
       " {'name': 'Birdie', 'savings': '$2893.91', 'country': 'FR'},\n",
       " {'name': 'Olive', 'savings': '$3549.08', 'country': 'IT'},\n",
       " {'name': 'Myrtie', 'savings': '$9187.05', 'country': 'DE'},\n",
       " {'name': 'Carrie', 'savings': '$3128.15', 'country': 'PT'},\n",
       " {'name': 'Kathryn', 'savings': '$3046.92', 'country': 'DE'},\n",
       " {'name': 'Brett', 'savings': '$3487.83', 'country': 'DE'},\n",
       " {'name': 'Antonio', 'savings': '$1995.64', 'country': 'DE'},\n",
       " {'name': 'Danny', 'savings': '$5721.25', 'country': 'PT'},\n",
       " {'name': 'Tony', 'savings': '$7334.58', 'country': 'PT'},\n",
       " {'name': 'Claudia', 'savings': '$7191.43', 'country': 'FR'},\n",
       " {'name': 'Scott', 'savings': '$123.32', 'country': 'IT'},\n",
       " {'name': 'Ricky', 'savings': '$8101.95', 'country': 'ES'},\n",
       " {'name': 'Ophelia', 'savings': '$2207.42', 'country': 'PT'},\n",
       " {'name': 'Howard', 'savings': '$6125.73', 'country': 'DE'},\n",
       " {'name': 'Madge', 'savings': '$7509.80', 'country': 'IT'},\n",
       " {'name': 'Julia', 'savings': '$577.73', 'country': 'FR'},\n",
       " {'name': 'Caleb', 'savings': '$5255.51', 'country': 'ES'},\n",
       " {'name': 'Louise', 'savings': '$1753.17', 'country': 'IT'},\n",
       " {'name': 'Austin', 'savings': '$7634.86', 'country': 'DE'},\n",
       " {'name': 'Virgie', 'savings': '$9764.71', 'country': 'ES'},\n",
       " {'name': 'Miguel', 'savings': '$8767.44', 'country': 'IT'},\n",
       " {'name': 'Matilda', 'savings': '$6138.36', 'country': 'DE'},\n",
       " {'name': 'Darrell', 'savings': '$5928.44', 'country': 'PT'},\n",
       " {'name': 'Laura', 'savings': '$5866.37', 'country': 'DE'},\n",
       " {'name': 'Cornelia', 'savings': '$6311.68', 'country': 'ES'},\n",
       " {'name': 'Angel', 'savings': '$1585.69', 'country': 'PT'},\n",
       " {'name': 'Sam', 'savings': '$1749.22', 'country': 'DE'},\n",
       " {'name': 'Nelle', 'savings': '$3573.86', 'country': 'FR'},\n",
       " {'name': 'Philip', 'savings': '$1955.62', 'country': 'DE'},\n",
       " {'name': 'Eunice', 'savings': '$3589.04', 'country': 'ES'},\n",
       " {'name': 'James', 'savings': '$6316.88', 'country': 'PT'},\n",
       " {'name': 'Tillie', 'savings': '$3932.86', 'country': 'IT'},\n",
       " {'name': 'Eva', 'savings': '$2844.37', 'country': 'DE'},\n",
       " {'name': 'Adeline', 'savings': '$8476.75', 'country': 'IT'},\n",
       " {'name': 'Philip', 'savings': '$508.14', 'country': 'PT'},\n",
       " {'name': 'Delia', 'savings': '$9595.65', 'country': 'ES'},\n",
       " {'name': 'Tyler', 'savings': '$8746.77', 'country': 'FR'},\n",
       " {'name': 'Jack', 'savings': '$8677.47', 'country': 'FR'},\n",
       " {'name': 'Jon', 'savings': '$6037.40', 'country': 'DE'},\n",
       " {'name': 'Nathan', 'savings': '$2350.21', 'country': 'PT'},\n",
       " {'name': 'Fanny', 'savings': '$8699.99', 'country': 'ES'},\n",
       " {'name': 'Brandon', 'savings': '$2269.26', 'country': 'ES'},\n",
       " {'name': 'Viola', 'savings': '$9521.81', 'country': 'PT'},\n",
       " {'name': 'Mike', 'savings': '$1445.12', 'country': 'IT'},\n",
       " {'name': 'Seth', 'savings': '$4186.95', 'country': 'IT'},\n",
       " {'name': 'Lucas', 'savings': '$7009.11', 'country': 'IT'},\n",
       " {'name': 'Leon', 'savings': '$7580.47', 'country': 'ES'},\n",
       " {'name': 'Edgar', 'savings': '$6010.85', 'country': 'FR'},\n",
       " {'name': 'Myrtie', 'savings': '$3651.93', 'country': 'IT'},\n",
       " {'name': 'Callie', 'savings': '$1305.30', 'country': 'IT'},\n",
       " {'name': 'Alejandro', 'savings': '$9915.75', 'country': 'ES'},\n",
       " {'name': 'Jason', 'savings': '$692.08', 'country': 'ES'},\n",
       " {'name': 'Lydia', 'savings': '$3806.97', 'country': 'IT'},\n",
       " {'name': 'Julian', 'savings': '$6423.00', 'country': 'ES'},\n",
       " {'name': 'Eva', 'savings': '$2820.57', 'country': 'FR'},\n",
       " {'name': 'Sadie', 'savings': '$3163.40', 'country': 'FR'},\n",
       " {'name': 'Travis', 'savings': '$3268.36', 'country': 'IT'},\n",
       " {'name': 'Sophie', 'savings': '$4115.93', 'country': 'IT'},\n",
       " {'name': 'Henrietta', 'savings': '$9394.24', 'country': 'DE'},\n",
       " {'name': 'Clarence', 'savings': '$5607.16', 'country': 'DE'},\n",
       " {'name': 'Randy', 'savings': '$5382.92', 'country': 'IT'},\n",
       " {'name': 'Ina', 'savings': '$7026.66', 'country': 'ES'},\n",
       " {'name': 'Lola', 'savings': '$4138.29', 'country': 'PT'},\n",
       " {'name': 'Sophie', 'savings': '$9792.37', 'country': 'PT'},\n",
       " {'name': 'Etta', 'savings': '$1804.00', 'country': 'ES'},\n",
       " {'name': 'Lily', 'savings': '$5682.73', 'country': 'PT'},\n",
       " {'name': 'Gabriel', 'savings': '$7007.15', 'country': 'ES'},\n",
       " {'name': 'Rosetta', 'savings': '$1333.95', 'country': 'DE'},\n",
       " {'name': 'Annie', 'savings': '$7069.18', 'country': 'FR'},\n",
       " {'name': 'Clara', 'savings': '$2157.29', 'country': 'IT'},\n",
       " {'name': 'Birdie', 'savings': '$9617.42', 'country': 'IT'},\n",
       " {'name': 'Charlie', 'savings': '$4370.87', 'country': 'PT'},\n",
       " {'name': 'Beatrice', 'savings': '$4420.19', 'country': 'FR'},\n",
       " {'name': 'Edward', 'savings': '$8456.21', 'country': 'ES'},\n",
       " {'name': 'Sam', 'savings': '$5967.69', 'country': 'FR'},\n",
       " {'name': 'Alexander', 'savings': '$6221.87', 'country': 'PT'},\n",
       " {'name': 'Hulda', 'savings': '$5590.33', 'country': 'IT'},\n",
       " {'name': 'Delia', 'savings': '$5961.56', 'country': 'DE'},\n",
       " {'name': 'Clarence', 'savings': '$5872.93', 'country': 'FR'},\n",
       " {'name': 'Adele', 'savings': '$8113.61', 'country': 'ES'},\n",
       " {'name': 'Laura', 'savings': '$5801.10', 'country': 'ES'},\n",
       " {'name': 'Bradley', 'savings': '$3218.23', 'country': 'IT'},\n",
       " {'name': 'Fanny', 'savings': '$9591.56', 'country': 'PT'},\n",
       " {'name': 'Manuel', 'savings': '$4353.62', 'country': 'FR'},\n",
       " {'name': 'Marie', 'savings': '$2256.30', 'country': 'IT'},\n",
       " {'name': 'Lucinda', 'savings': '$8361.87', 'country': 'ES'},\n",
       " {'name': 'Bertie', 'savings': '$7873.01', 'country': 'PT'},\n",
       " {'name': 'Eva', 'savings': '$1521.93', 'country': 'IT'},\n",
       " {'name': 'Joshua', 'savings': '$2331.99', 'country': 'DE'},\n",
       " {'name': 'Hulda', 'savings': '$5269.45', 'country': 'FR'},\n",
       " {'name': 'Darrell', 'savings': '$2611.39', 'country': 'ES'},\n",
       " {'name': 'Mike', 'savings': '$4224.43', 'country': 'IT'},\n",
       " {'name': 'Luke', 'savings': '$2058.65', 'country': 'DE'},\n",
       " {'name': 'Genevieve', 'savings': '$2070.56', 'country': 'IT'},\n",
       " {'name': 'Jimmy', 'savings': '$7606.30', 'country': 'PT'}]"
      ]
     },
     "execution_count": 125,
     "metadata": {},
     "output_type": "execute_result"
    }
   ],
   "source": [
    "myFile = 'bank.csv'\n",
    "mylist = read_savings_data(myFile)\n",
    "read_savings_data(myFile)"
   ]
  },
  {
   "cell_type": "markdown",
   "metadata": {},
   "source": [
    "2. (**2 points**) Create a function `calculate_total_savings`, that\n",
    "receives a list of dictionaries like the one resulting from\n",
    "`read_savings_data`, and computes the total savings of all clients in\n",
    "the bank. Do not use the function `sum` provided by Python.\n"
   ]
  },
  {
   "cell_type": "code",
   "execution_count": 126,
   "metadata": {},
   "outputs": [],
   "source": [
    "def calculate_total_savings(mylst):\n",
    "    total_savings = 0\n",
    "    for dic in mylst:\n",
    "        total_savings = round(total_savings + float(dic['savings'].replace('$','')),2)\n",
    "    return(total_savings)"
   ]
  },
  {
   "cell_type": "code",
   "execution_count": 127,
   "metadata": {},
   "outputs": [
    {
     "data": {
      "text/plain": [
       "512391.34"
      ]
     },
     "execution_count": 127,
     "metadata": {},
     "output_type": "execute_result"
    }
   ],
   "source": [
    "calculate_total_savings(mylist)"
   ]
  },
  {
   "cell_type": "markdown",
   "metadata": {},
   "source": [
    "3. (**2 points**) Create a function `richest_person`, that receives a\n",
    "list of dictionares like the one resulting from `read_savings_data`,\n",
    "and returns the name of the person that has the highest amount of\n",
    "money."
   ]
  },
  {
   "cell_type": "code",
   "execution_count": 128,
   "metadata": {},
   "outputs": [],
   "source": [
    "def richest_person(mylst):\n",
    "    highest_amt = 0\n",
    "    amt = 0\n",
    "    richest = ''\n",
    "    for dic in mylst:\n",
    "        amt = float(dic['savings'].replace('$',''))\n",
    "        if highest_amt == 0 :\n",
    "            highest_amt = amt\n",
    "        elif highest_amt < amt:\n",
    "            highest_amt = amt\n",
    "            richest = dic['name']\n",
    "        else:\n",
    "            continue\n",
    "    return(richest)"
   ]
  },
  {
   "cell_type": "code",
   "execution_count": 129,
   "metadata": {},
   "outputs": [
    {
     "data": {
      "text/plain": [
       "'Alejandro'"
      ]
     },
     "execution_count": 129,
     "metadata": {},
     "output_type": "execute_result"
    }
   ],
   "source": [
    "richest_person(mylist)"
   ]
  },
  {
   "cell_type": "markdown",
   "metadata": {},
   "source": [
    "4. (**2 points**) Create a function `poorest_person`, that receives a\n",
    "list of dictionaries like the one resulting from `read_savings_data`,\n",
    "and returns the name of the person that has the lowest amount of\n",
    "money."
   ]
  },
  {
   "cell_type": "code",
   "execution_count": 130,
   "metadata": {},
   "outputs": [],
   "source": [
    "def poorest_person(mylst):\n",
    "    lowest_amt = 0\n",
    "    amt = 0\n",
    "    poorest = ''\n",
    "    for dic in mylst:\n",
    "        amt = float(dic['savings'].replace('$',''))\n",
    "        if lowest_amt == 0 :\n",
    "            lowest_amt = amt\n",
    "        elif lowest_amt > amt:\n",
    "            lowest_amt = amt\n",
    "            poorest = dic['name']\n",
    "        else:\n",
    "            continue\n",
    "    return(poorest)"
   ]
  },
  {
   "cell_type": "code",
   "execution_count": 131,
   "metadata": {},
   "outputs": [
    {
     "data": {
      "text/plain": [
       "'Scott'"
      ]
     },
     "execution_count": 131,
     "metadata": {},
     "output_type": "execute_result"
    }
   ],
   "source": [
    "poorest_person(mylist)"
   ]
  },
  {
   "cell_type": "markdown",
   "metadata": {},
   "source": [
    "5. (**3 points**) Create a function `get_all_countries`, that receives\n",
    "a list of dictionaries like the one resulting from\n",
    "`read_savings_data`, and returns a list of all different countries,\n",
    "with no duplicates."
   ]
  },
  {
   "cell_type": "code",
   "execution_count": 132,
   "metadata": {},
   "outputs": [],
   "source": [
    "def get_all_countries(mylst):\n",
    "    unq_countries = []\n",
    "    for dic in mylst:\n",
    "        if dic['country'] not in unq_countries:\n",
    "            unq_countries.append(dic['country'])\n",
    "    return(unq_countries)"
   ]
  },
  {
   "cell_type": "code",
   "execution_count": 133,
   "metadata": {},
   "outputs": [
    {
     "data": {
      "text/plain": [
       "['DE', 'IT', 'FR', 'PT', 'ES']"
      ]
     },
     "execution_count": 133,
     "metadata": {},
     "output_type": "execute_result"
    }
   ],
   "source": [
    "get_all_countries(mylist)"
   ]
  },
  {
   "cell_type": "markdown",
   "metadata": {},
   "source": [
    "6. (**3 points**) Create a function `calculate_average_savings`, that\n",
    "receives a list of dictionaries like the one resulting from\n",
    "`read_savings_data`, and returns the average savings of all people in\n",
    "the bank. Do not use the function `sum` provided by Python.\n"
   ]
  },
  {
   "cell_type": "code",
   "execution_count": 134,
   "metadata": {},
   "outputs": [],
   "source": [
    "def calculate_average_savings(mylst):\n",
    "    return round(calculate_total_savings(mylst)/len(mylst) ,2)"
   ]
  },
  {
   "cell_type": "code",
   "execution_count": 135,
   "metadata": {},
   "outputs": [
    {
     "data": {
      "text/plain": [
       "5123.91"
      ]
     },
     "execution_count": 135,
     "metadata": {},
     "output_type": "execute_result"
    }
   ],
   "source": [
    "calculate_average_savings(mylist)"
   ]
  },
  {
   "cell_type": "markdown",
   "metadata": {},
   "source": [
    "7. (**4 points**) Create a function `people_per_country`, that\n",
    "receives a list of dictionaries like the one resulting from\n",
    "`read_savings_data`, and returns a dictionary where the keys are the\n",
    "different countries in the input, and the values are the number of\n",
    "people that are from each country. For example, the output should look\n",
    "like:\n",
    "\n",
    "```json\n",
    "{\n",
    "  \"ES\": 14,\n",
    "  \"DE\": 29,\n",
    "  ...\n",
    "}\n",
    "```"
   ]
  },
  {
   "cell_type": "code",
   "execution_count": 136,
   "metadata": {},
   "outputs": [],
   "source": [
    "def people_per_country(mylst):\n",
    "    mydict = {}\n",
    "    for country in get_all_countries(mylst):\n",
    "        counter = 0\n",
    "        for count in mylst:\n",
    "            if count['country'] == country:\n",
    "                counter = counter + 1\n",
    "        mydict[country] = counter\n",
    "    return(mydict)"
   ]
  },
  {
   "cell_type": "code",
   "execution_count": 137,
   "metadata": {},
   "outputs": [
    {
     "data": {
      "text/plain": [
       "{'DE': 21, 'IT': 25, 'FR': 16, 'PT': 18, 'ES': 20}"
      ]
     },
     "execution_count": 137,
     "metadata": {},
     "output_type": "execute_result"
    }
   ],
   "source": [
    "people_per_country(mylist)"
   ]
  },
  {
   "cell_type": "markdown",
   "metadata": {},
   "source": [
    "8. (**2 points**) Create a function `write_report`, that writes a\n",
    "report in a file named `report.json`, with the following format:\n",
    "\n",
    "```json\n",
    "{\n",
    "  \"total_savings\": \"amount\",\n",
    "  \"richest_person\": \"name\",\n",
    "  \"poorest_person\": \"name\",\n",
    "  \"all_countries\": [\n",
    "    \"ES\",\n",
    "    \"IT\",\n",
    "    ...\n",
    "  ],\n",
    "  \"average_savings\": \"amount\",\n",
    "  \"people_per_country\": {\n",
    "    \"ES\": 14,\n",
    "    \"DE\": 29,\n",
    "    ...\n",
    "  }\n",
    "}\n",
    "```"
   ]
  },
  {
   "cell_type": "code",
   "execution_count": 138,
   "metadata": {},
   "outputs": [],
   "source": [
    "def write_report(mylst):\n",
    "    mydict = {}\n",
    "    mydict[\"total_savings\"] = str(calculate_total_savings(mylst))\n",
    "    mydict[\"richest_person\"] = richest_person(mylst)\n",
    "    mydict[\"poorest_person\"] = poorest_person(mylst)\n",
    "    mydict[\"all_countries\"] = get_all_countries(mylst)\n",
    "    mydict[\"average_savings\"] = str(calculate_average_savings(mylst))\n",
    "    mydict[\"people_per_country\"] = people_per_country(mylst)\n",
    "    with open('report.json', 'w') as jsonfile:\n",
    "        json.dump(mydict, jsonfile)"
   ]
  },
  {
   "cell_type": "code",
   "execution_count": 139,
   "metadata": {},
   "outputs": [],
   "source": [
    "import json\n",
    "myFile = 'bank.csv'\n",
    "mylist = read_savings_data(myFile)\n",
    "write_report(mylist)\n"
   ]
  },
  {
   "cell_type": "code",
   "execution_count": null,
   "metadata": {},
   "outputs": [],
   "source": []
  }
 ],
 "metadata": {
  "kernelspec": {
   "display_name": "Python 3",
   "language": "python",
   "name": "python3"
  },
  "language_info": {
   "codemirror_mode": {
    "name": "ipython",
    "version": 3
   },
   "file_extension": ".py",
   "mimetype": "text/x-python",
   "name": "python",
   "nbconvert_exporter": "python",
   "pygments_lexer": "ipython3",
   "version": "3.7.6"
  }
 },
 "nbformat": 4,
 "nbformat_minor": 2
}
